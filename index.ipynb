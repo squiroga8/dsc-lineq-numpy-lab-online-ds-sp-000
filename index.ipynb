{
 "cells": [
  {
   "cell_type": "markdown",
   "metadata": {},
   "source": [
    "# Solving Systems of Linear Equations with NumPy - Lab\n",
    "\n",
    "## Introduction \n",
    "\n",
    "Now you've gathered all the required skills needed to solve systems of linear equations. You saw why there was a need to calculate inverses of matrices, followed by matrix multiplication to figure out the values of unknown variables. \n",
    "\n",
    "The exercises in this lab present some problems that can be converted into a system of linear equations. \n",
    "\n",
    "## Objectives\n",
    "You will be able to:\n",
    "\n",
    "- Use matrix algebra and NumPy to solve a system of linear equations given a real-life example \n",
    "- Use NumPy's linear algebra solver to solve for systems of linear equations\n",
    "\n",
    "## Exercise 1\n",
    "\n",
    "A coffee shop is having a sale on coffee and tea. \n",
    "\n",
    "On day 1, 29 bags of coffee and 41 bags of tea were sold, for a total of 490 dollars.\n",
    "\n",
    "On day 2, they sold 23 bags of coffee and 41 bags of tea, for which customers paid a total of 448 dollars.  \n",
    "\n",
    "How much does each bag cost?"
   ]
  },
  {
   "cell_type": "code",
   "execution_count": 4,
   "metadata": {
    "ExecuteTime": {
     "end_time": "2019-11-11T10:14:44.081389Z",
     "start_time": "2019-11-11T10:14:44.074364Z"
    }
   },
   "outputs": [
    {
     "name": "stdout",
     "output_type": "stream",
     "text": [
      "B Shape: (1, 2)\n",
      "B Transposed Shape: (2, 1)\n",
      "[[490]\n",
      " [448]]\n",
      "[[7.]\n",
      " [7.]]\n",
      "[[7.]\n",
      " [7.]]\n"
     ]
    }
   ],
   "source": [
    "# Create and solve the relevant system of equations\n",
    "import numpy as np\n",
    "# x will be price of coffee\n",
    "# y will be price of tea\n",
    "# 29x + 41y = 490\n",
    "# 23x + 41y = 448\n",
    "\n",
    "A = np.array([[29, 41], [23, 41]])\n",
    "B = np.array([[490, 448]])\n",
    "\n",
    "#calculate inverse of A\n",
    "A_inv = np.linalg.inv(A)\n",
    "\n",
    "#Check the shapes before transposing B\n",
    "print('B Shape: {}'.format(B.shape))\n",
    "# transpose\n",
    "B = B.T\n",
    "print(\"B Transposed Shape: {}\".format(B.shape))\n",
    "print(B)\n",
    "\n",
    "# Calculate x \n",
    "X = A_inv.dot(B)\n",
    "print(X)\n",
    "\n",
    "#verify with linalg.solve\n",
    "\n",
    "X_verify = np.linalg.solve(A,B)\n",
    "print(X_verify)"
   ]
  },
  {
   "cell_type": "code",
   "execution_count": 5,
   "metadata": {
    "ExecuteTime": {
     "end_time": "2019-11-11T10:15:21.288013Z",
     "start_time": "2019-11-11T10:15:21.285703Z"
    }
   },
   "outputs": [],
   "source": [
    "# Describe your result\n",
    "# A bag of coffee is $7, as is a bag of tea."
   ]
  },
  {
   "cell_type": "markdown",
   "metadata": {},
   "source": [
    "## Exercise 2\n",
    "\n",
    "The cost of admission to a popular music concert was 162 dollars for 12 children and 3 adults. \n",
    "\n",
    "The admission was 122 dollars for 8 children and 3 adults in the same music concert. \n",
    "\n",
    "How much was the admission for each child and adult?"
   ]
  },
  {
   "cell_type": "code",
   "execution_count": 9,
   "metadata": {
    "ExecuteTime": {
     "end_time": "2019-11-11T10:21:04.067684Z",
     "start_time": "2019-11-11T10:21:04.061252Z"
    }
   },
   "outputs": [
    {
     "name": "stdout",
     "output_type": "stream",
     "text": [
      "[[10.]\n",
      " [14.]]\n",
      "[[10.]\n",
      " [14.]]\n"
     ]
    }
   ],
   "source": [
    "# Create and solve the relevant system of equations\n",
    "\n",
    "# 12c + 3a = 162 dollars\n",
    "# 8c + 3a = 122 dollars\n",
    "\n",
    "A = np.array([[12,3], [8,3]])\n",
    "B = np.array([[162, 122]])\n",
    "\n",
    "# Calculate the inverse of A\n",
    "A_inv = np.linalg.inv(A)\n",
    "# Get dot product with B transposed to calculate price of a child\n",
    "X = A_inv.dot(B.T)\n",
    "print(X)\n",
    "\n",
    "# Verify with linalg.solve function\n",
    "X_verify = np.linalg.solve(A, B.T)\n",
    "print(X_verify)\n"
   ]
  },
  {
   "cell_type": "code",
   "execution_count": null,
   "metadata": {},
   "outputs": [],
   "source": [
    "# Describe your result\n",
    "# The child ticket cost $10, and the adult ticket cost $14"
   ]
  },
  {
   "cell_type": "markdown",
   "metadata": {},
   "source": [
    "## Exercise 3\n",
    "\n",
    "You want to make a soup containing tomatoes, carrots, and onions.\n",
    "\n",
    "Suppose you don't know the exact mix to put in, but you know there are 7 individual pieces of vegetables, and there are twice as many tomatoes as onions, and that the 7 pieces of vegetables cost 5.25 USD in total. \n",
    "You also know that onions cost 0.5 USD each, tomatoes cost 0.75 USD and carrots cost 1.25 USD each.\n",
    "\n",
    "Create a system of equations to find out exactly how many of each of the vegetables are in your soup."
   ]
  },
  {
   "cell_type": "code",
   "execution_count": 11,
   "metadata": {
    "ExecuteTime": {
     "end_time": "2019-11-11T10:39:13.713412Z",
     "start_time": "2019-11-11T10:39:13.706908Z"
    }
   },
   "outputs": [
    {
     "name": "stdout",
     "output_type": "stream",
     "text": [
      "[[4.]\n",
      " [1.]\n",
      " [2.]]\n",
      "[[4.]\n",
      " [1.]\n",
      " [2.]]\n"
     ]
    }
   ],
   "source": [
    "# Create and solve the relevant system of equations\n",
    "# keep the variables lined up (t+c+o)\n",
    "# t + c + o = 7\n",
    "# 0.75t + 1.25c + 0.5o = 5.25\n",
    "# t = 2o OR t + 0c - 2o = 0\n",
    "\n",
    "A = np.matrix([[1, 1, 1], [0.75, 1.25, 0.5], [1, 0, -2]])\n",
    "B = np.matrix([[7,  5.25, 0]])\n",
    "\n",
    "# Calculate inverse of A and Transpose B\n",
    "A_inv = np.linalg.inv(A)\n",
    "B_t = B.T\n",
    "# Take dot product\n",
    "X = A_inv.dot(B_t)\n",
    "print(X)\n",
    "\n",
    "#Verify with linalg solve function\n",
    "X_verify = np.linalg.solve(A, B_t)\n",
    "print(X_verify)"
   ]
  },
  {
   "cell_type": "code",
   "execution_count": 12,
   "metadata": {
    "ExecuteTime": {
     "end_time": "2019-11-11T10:39:42.532067Z",
     "start_time": "2019-11-11T10:39:42.530118Z"
    }
   },
   "outputs": [],
   "source": [
    "# Describe your result\n",
    "# You need 4 tomatoes, 1 carrot, and 2 onion"
   ]
  },
  {
   "cell_type": "markdown",
   "metadata": {},
   "source": [
    "## Exercise 4\n",
    "\n",
    "A landlord owns 3 properties: a 1-bedroom, a 2-bedroom, and a 3-bedroom house. \n",
    "\n",
    "The total rent he receives is 1240 USD. \n",
    "\n",
    "He needs to make some repairs, where those repairs cost 10% of the 1-bedroom house’s rent. The 2-bedroom repairs cost 20% of the 2-bedroom rental price and 30% of the 3-bedroom house's rent for its repairs.  The total repair bill for all three houses was 276 USD. \n",
    "\n",
    "The 3-bedroom house's rent is twice the 1-bedroom house’s rent. \n",
    "\n",
    "How much is the individual rent for three houses?"
   ]
  },
  {
   "cell_type": "code",
   "execution_count": 14,
   "metadata": {
    "ExecuteTime": {
     "end_time": "2019-11-11T10:49:11.621211Z",
     "start_time": "2019-11-11T10:49:11.614261Z"
    }
   },
   "outputs": [
    {
     "name": "stdout",
     "output_type": "stream",
     "text": [
      "[[280.]\n",
      " [400.]\n",
      " [560.]]\n",
      "[[280.]\n",
      " [400.]\n",
      " [560.]]\n"
     ]
    }
   ],
   "source": [
    "# Create and solve the relevant system of equations\n",
    "# onebdr + twobdr + threebdr = 3 properties\n",
    "# onebdr + twobdr + threebdr = 1240\n",
    "# .10onebdr + .20twobdr + .30threebdr = 276\n",
    "# threebdr = 2onebdr OR -2onebdr + 0twobdr + 1threebdr = 0\n",
    "\n",
    "A = np.matrix([[1, 1, 1], [0.10, 0.20, 0.30], [-2, 0, 1]])\n",
    "B = np.matrix([[1240, 276, 0]])\n",
    "\n",
    "A_inv = np.linalg.inv(A)\n",
    "B_t = np.transpose(B)\n",
    "X = A_inv.dot(B_t)\n",
    "print(X)\n",
    "\n",
    "#verify\n",
    "X_verify = np.linalg.solve(A, B_t)\n",
    "print(X_verify)"
   ]
  },
  {
   "cell_type": "code",
   "execution_count": null,
   "metadata": {},
   "outputs": [],
   "source": [
    "# Describe your result\n",
    "# the one bedroom rent is $280\n",
    "# the two bedroom rent is $400\n",
    "# the three bedroom rent is $560"
   ]
  },
  {
   "cell_type": "markdown",
   "metadata": {},
   "source": [
    "## Summary\n",
    "In this lab, you learned how to use NumPy to solve linear equations by taking inverses and matrix multiplication and also using numpy's `solve()` function. You'll now take these skills forward and see how you can define a simple regression problem using linear algebra and solve it with Numpy. "
   ]
  }
 ],
 "metadata": {
  "kernelspec": {
   "display_name": "learn-env",
   "language": "python",
   "name": "learn-env"
  },
  "language_info": {
   "codemirror_mode": {
    "name": "ipython",
    "version": 3
   },
   "file_extension": ".py",
   "mimetype": "text/x-python",
   "name": "python",
   "nbconvert_exporter": "python",
   "pygments_lexer": "ipython3",
   "version": "3.6.9"
  },
  "toc": {
   "base_numbering": 1,
   "nav_menu": {},
   "number_sections": true,
   "sideBar": true,
   "skip_h1_title": false,
   "title_cell": "Table of Contents",
   "title_sidebar": "Contents",
   "toc_cell": false,
   "toc_position": {},
   "toc_section_display": true,
   "toc_window_display": false
  },
  "varInspector": {
   "cols": {
    "lenName": 16,
    "lenType": 16,
    "lenVar": 40
   },
   "kernels_config": {
    "python": {
     "delete_cmd_postfix": "",
     "delete_cmd_prefix": "del ",
     "library": "var_list.py",
     "varRefreshCmd": "print(var_dic_list())"
    },
    "r": {
     "delete_cmd_postfix": ") ",
     "delete_cmd_prefix": "rm(",
     "library": "var_list.r",
     "varRefreshCmd": "cat(var_dic_list()) "
    }
   },
   "types_to_exclude": [
    "module",
    "function",
    "builtin_function_or_method",
    "instance",
    "_Feature"
   ],
   "window_display": true
  }
 },
 "nbformat": 4,
 "nbformat_minor": 2
}
